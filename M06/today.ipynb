{
 "cells": [
  {
   "cell_type": "code",
   "execution_count": 1,
   "id": "c10c787a",
   "metadata": {},
   "outputs": [],
   "source": [
    "# import datetime moduals\n",
    "from datetime import date, datetime"
   ]
  },
  {
   "cell_type": "code",
   "execution_count": 2,
   "id": "5daf5cba",
   "metadata": {},
   "outputs": [],
   "source": [
    "# get a string of todays date\n",
    "today = date.today()\n",
    "today = str(today)"
   ]
  },
  {
   "cell_type": "code",
   "execution_count": 3,
   "id": "ceb7f2d0",
   "metadata": {},
   "outputs": [],
   "source": [
    "# write that string to a txt file\n",
    "txt = open(\"today.txt\", \"w\")\n",
    "txt.write(today)\n",
    "txt.close()"
   ]
  },
  {
   "cell_type": "code",
   "execution_count": 4,
   "id": "586ef8ec",
   "metadata": {},
   "outputs": [
    {
     "name": "stdout",
     "output_type": "stream",
     "text": [
      "2023-07-17\n"
     ]
    }
   ],
   "source": [
    "# read that textfile\n",
    "txt = open(\"today.txt\", \"r\")\n",
    "today_string = txt.read()\n",
    "txt.close()\n",
    "print(today_string)"
   ]
  },
  {
   "cell_type": "code",
   "execution_count": 5,
   "id": "a895c0f1",
   "metadata": {},
   "outputs": [
    {
     "name": "stdout",
     "output_type": "stream",
     "text": [
      "Today's Date:\n",
      "Year  = 2023\n",
      "Month = 7\n",
      "Day   = 17\n"
     ]
    }
   ],
   "source": [
    "# Parse data in textfile and output it\n",
    "parseToday = datetime.strptime(today_string, '%Y-%m-%d')\n",
    "print(f\"\"\"Today's Date:\n",
    "Year  = {parseToday.year}\n",
    "Month = {parseToday.month}\n",
    "Day   = {parseToday.day}\"\"\")"
   ]
  },
  {
   "cell_type": "code",
   "execution_count": null,
   "id": "ae498b34",
   "metadata": {},
   "outputs": [],
   "source": []
  }
 ],
 "metadata": {
  "kernelspec": {
   "display_name": "Python 3 (ipykernel)",
   "language": "python",
   "name": "python3"
  },
  "language_info": {
   "codemirror_mode": {
    "name": "ipython",
    "version": 3
   },
   "file_extension": ".py",
   "mimetype": "text/x-python",
   "name": "python",
   "nbconvert_exporter": "python",
   "pygments_lexer": "ipython3",
   "version": "3.10.9"
  }
 },
 "nbformat": 4,
 "nbformat_minor": 5
}
