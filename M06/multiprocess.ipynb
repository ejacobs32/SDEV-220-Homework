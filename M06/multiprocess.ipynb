{
 "cells": [
  {
   "cell_type": "code",
   "execution_count": 1,
   "id": "d3a63343",
   "metadata": {},
   "outputs": [],
   "source": [
    "# import modules\n",
    "from random import randint\n",
    "from time import sleep\n",
    "from datetime import datetime\n",
    "from multiprocessing import Process"
   ]
  },
  {
   "cell_type": "code",
   "execution_count": 2,
   "id": "599826ae",
   "metadata": {},
   "outputs": [],
   "source": [
    "# define the function to run\n",
    "def process(process_num):\n",
    "    time = datetime.now().strftime(\"%H:%M:%S\")\n",
    "    print(f\"Starting process #{process_num} at {time}\")\n",
    "\n",
    "    rand_time = randint(1,3)\n",
    "    print(f\"Process #{process_num} is waiting for {str(rand_time)} seconds\")\n",
    "    sleep(rand_time)\n",
    "\n",
    "    time = datetime.now().strftime(\"%H:%M:%S\")\n",
    "    print(f\"Finished process #{process_num} at {time}\")"
   ]
  },
  {
   "cell_type": "code",
   "execution_count": 4,
   "id": "f712b642",
   "metadata": {},
   "outputs": [],
   "source": [
    "# run function 3 times concurrently \n",
    "for n in range(3):\n",
    "    p = Process(target=process, args=(n+1,))\n",
    "    p.start()"
   ]
  },
  {
   "cell_type": "code",
   "execution_count": 5,
   "id": "2cf090c0",
   "metadata": {},
   "outputs": [],
   "source": [
    "# Not sure why it does not show the output. \n",
    "# The program works just fine when run on the command line."
   ]
  },
  {
   "cell_type": "code",
   "execution_count": null,
   "id": "23fcc256",
   "metadata": {},
   "outputs": [],
   "source": []
  }
 ],
 "metadata": {
  "kernelspec": {
   "display_name": "Python 3 (ipykernel)",
   "language": "python",
   "name": "python3"
  },
  "language_info": {
   "codemirror_mode": {
    "name": "ipython",
    "version": 3
   },
   "file_extension": ".py",
   "mimetype": "text/x-python",
   "name": "python",
   "nbconvert_exporter": "python",
   "pygments_lexer": "ipython3",
   "version": "3.11.4"
  }
 },
 "nbformat": 4,
 "nbformat_minor": 5
}
