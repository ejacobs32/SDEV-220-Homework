{
 "cells": [
  {
   "cell_type": "code",
   "execution_count": 1,
   "id": "44c75cab",
   "metadata": {},
   "outputs": [],
   "source": [
    "from sqlalchemy import create_engine, Column, Integer, String\n",
    "from sqlalchemy.ext.declarative import declarative_base\n",
    "from sqlalchemy.orm import sessionmaker"
   ]
  },
  {
   "cell_type": "code",
   "execution_count": 2,
   "id": "0361c9c5",
   "metadata": {},
   "outputs": [],
   "source": [
    "Base = declarative_base()"
   ]
  },
  {
   "cell_type": "code",
   "execution_count": 3,
   "id": "5f9addae",
   "metadata": {},
   "outputs": [],
   "source": [
    "class Book(Base):\n",
    "    __tablename__ = 'books'\n",
    "\n",
    "    id = Column(Integer, primary_key=True)\n",
    "    title = Column(String)\n",
    "    author = Column(String)\n",
    "    year = Column(Integer)"
   ]
  },
  {
   "cell_type": "code",
   "execution_count": 4,
   "id": "862378df",
   "metadata": {},
   "outputs": [],
   "source": [
    "engine = create_engine('sqlite:///books.db')"
   ]
  },
  {
   "cell_type": "code",
   "execution_count": 5,
   "id": "ce7f3001",
   "metadata": {},
   "outputs": [],
   "source": [
    "Base.metadata.create_all(engine)"
   ]
  },
  {
   "cell_type": "code",
   "execution_count": 6,
   "id": "19a1cce3",
   "metadata": {},
   "outputs": [],
   "source": [
    "Session = sessionmaker(bind=engine)"
   ]
  },
  {
   "cell_type": "code",
   "execution_count": 7,
   "id": "da7cadc5",
   "metadata": {},
   "outputs": [],
   "source": [
    "session = Session()"
   ]
  },
  {
   "cell_type": "code",
   "execution_count": 8,
   "id": "03e2c908",
   "metadata": {},
   "outputs": [],
   "source": [
    "books = session.query(Book.title).order_by(Book.title).all()"
   ]
  },
  {
   "cell_type": "code",
   "execution_count": 9,
   "id": "dec343e3",
   "metadata": {},
   "outputs": [
    {
     "name": "stdout",
     "output_type": "stream",
     "text": [
      "Title: At Midnight\n",
      "Title: Ey Dount Nough Hou Tue Ceppell\n",
      "Title: Goofy Joke\n",
      "Title: I Just Prefer Writing SQL\n",
      "Title: Rank 3 Overdrive\n"
     ]
    }
   ],
   "source": [
    "for title in books:\n",
    "    print(f\"Title: {title[0]}\")"
   ]
  },
  {
   "cell_type": "code",
   "execution_count": 10,
   "id": "59977a05",
   "metadata": {},
   "outputs": [],
   "source": [
    "session.close()"
   ]
  },
  {
   "cell_type": "code",
   "execution_count": null,
   "id": "d53572fd",
   "metadata": {},
   "outputs": [],
   "source": []
  }
 ],
 "metadata": {
  "kernelspec": {
   "display_name": "Python 3 (ipykernel)",
   "language": "python",
   "name": "python3"
  },
  "language_info": {
   "codemirror_mode": {
    "name": "ipython",
    "version": 3
   },
   "file_extension": ".py",
   "mimetype": "text/x-python",
   "name": "python",
   "nbconvert_exporter": "python",
   "pygments_lexer": "ipython3",
   "version": "3.10.9"
  }
 },
 "nbformat": 4,
 "nbformat_minor": 5
}
