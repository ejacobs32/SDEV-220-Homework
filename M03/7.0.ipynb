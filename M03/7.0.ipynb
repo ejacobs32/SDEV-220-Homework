{
 "cells": [
  {
   "cell_type": "code",
   "execution_count": 1,
   "id": "08d9da1e",
   "metadata": {},
   "outputs": [],
   "source": [
    "things = [\"mozzarella\", \"cinderella\", \"salmonella\"]"
   ]
  },
  {
   "cell_type": "code",
   "execution_count": 2,
   "id": "98b7ca1d",
   "metadata": {},
   "outputs": [],
   "source": [
    "things[1] = things[1].capitalize()"
   ]
  },
  {
   "cell_type": "code",
   "execution_count": 3,
   "id": "b9223b24",
   "metadata": {},
   "outputs": [
    {
     "name": "stdout",
     "output_type": "stream",
     "text": [
      "['mozzarella', 'Cinderella', 'salmonella']\n"
     ]
    }
   ],
   "source": [
    "print(things)"
   ]
  },
  {
   "cell_type": "code",
   "execution_count": 4,
   "id": "5548d822",
   "metadata": {},
   "outputs": [],
   "source": [
    "# \"Did it change the element in the list?\"\n",
    "# Yes"
   ]
  },
  {
   "cell_type": "code",
   "execution_count": 5,
   "id": "dc56c308",
   "metadata": {},
   "outputs": [],
   "source": [
    "things[0] = things[0].upper()"
   ]
  },
  {
   "cell_type": "code",
   "execution_count": 6,
   "id": "cf5c7a18",
   "metadata": {},
   "outputs": [
    {
     "name": "stdout",
     "output_type": "stream",
     "text": [
      "['MOZZARELLA', 'Cinderella', 'salmonella']\n"
     ]
    }
   ],
   "source": [
    "print(things)"
   ]
  },
  {
   "cell_type": "code",
   "execution_count": 7,
   "id": "37281ad8",
   "metadata": {},
   "outputs": [],
   "source": [
    "del things[2]"
   ]
  },
  {
   "cell_type": "code",
   "execution_count": null,
   "id": "03ef3414",
   "metadata": {},
   "outputs": [],
   "source": [
    "def collect_Nobel_Prize(): \n",
    "    print(\"Thank you, it was nothing!\")\n",
    "collect_Nobel_Prize()"
   ]
  }
 ],
 "metadata": {
  "kernelspec": {
   "display_name": "Python 3 (ipykernel)",
   "language": "python",
   "name": "python3"
  },
  "language_info": {
   "codemirror_mode": {
    "name": "ipython",
    "version": 3
   },
   "file_extension": ".py",
   "mimetype": "text/x-python",
   "name": "python",
   "nbconvert_exporter": "python",
   "pygments_lexer": "ipython3",
   "version": "3.10.9"
  }
 },
 "nbformat": 4,
 "nbformat_minor": 5
}
