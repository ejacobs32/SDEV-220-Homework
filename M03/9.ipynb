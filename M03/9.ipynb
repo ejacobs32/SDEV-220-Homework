{
 "cells": [
  {
   "cell_type": "code",
   "execution_count": 1,
   "id": "ead50137",
   "metadata": {},
   "outputs": [],
   "source": [
    "def good():\n",
    "    goodguys = ['Harry', 'Ron', 'Hermione']\n",
    "    #badguys = ['voldemort', 'umbridge', 'JK Rowling']\n",
    "    return goodguys"
   ]
  },
  {
   "cell_type": "code",
   "execution_count": 2,
   "id": "6337dc80",
   "metadata": {},
   "outputs": [
    {
     "name": "stdout",
     "output_type": "stream",
     "text": [
      "['Harry', 'Ron', 'Hermione']\n"
     ]
    }
   ],
   "source": [
    "print(good())"
   ]
  },
  {
   "cell_type": "code",
   "execution_count": 3,
   "id": "d1e484c8",
   "metadata": {},
   "outputs": [],
   "source": [
    "def get_odds():\n",
    "    for x in range(10): \n",
    "        if x % 2 == 1: yield x "
   ]
  },
  {
   "cell_type": "code",
   "execution_count": 4,
   "id": "db3c1e2b",
   "metadata": {},
   "outputs": [
    {
     "name": "stdout",
     "output_type": "stream",
     "text": [
      "5\n"
     ]
    }
   ],
   "source": [
    "for x in get_odds():\n",
    "    if x == list(get_odds())[2]:\n",
    "        print(x)"
   ]
  }
 ],
 "metadata": {
  "kernelspec": {
   "display_name": "Python 3 (ipykernel)",
   "language": "python",
   "name": "python3"
  },
  "language_info": {
   "codemirror_mode": {
    "name": "ipython",
    "version": 3
   },
   "file_extension": ".py",
   "mimetype": "text/x-python",
   "name": "python",
   "nbconvert_exporter": "python",
   "pygments_lexer": "ipython3",
   "version": "3.10.9"
  }
 },
 "nbformat": 4,
 "nbformat_minor": 5
}
