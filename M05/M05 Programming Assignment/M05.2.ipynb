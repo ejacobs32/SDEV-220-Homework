{
 "cells": [
  {
   "cell_type": "code",
   "execution_count": 1,
   "id": "8881bc27",
   "metadata": {},
   "outputs": [],
   "source": [
    "from fractions import Fraction"
   ]
  },
  {
   "cell_type": "code",
   "execution_count": 2,
   "id": "8d497e86",
   "metadata": {},
   "outputs": [],
   "source": [
    "import unittest"
   ]
  },
  {
   "cell_type": "code",
   "execution_count": 3,
   "id": "2315b3b1",
   "metadata": {},
   "outputs": [],
   "source": [
    "from my_sum import sum"
   ]
  },
  {
   "cell_type": "code",
   "execution_count": 4,
   "id": "9ae35b0a",
   "metadata": {},
   "outputs": [],
   "source": [
    "\n",
    "class TestSum(unittest.TestCase):\n",
    "    def test_list_of_integers(self):\n",
    "        \"\"\"tests that sum can add a list of integers\"\"\"\n",
    "\n",
    "        data = [1,2,3]\n",
    "        result = sum(data)\n",
    "        self.assertEqual(result, 6)\n",
    "    \n",
    "    def test_list_fraction(self):\n",
    "        \"\"\"test that sum can add a list of fractions\"\"\"\n",
    "        data = [Fraction(1, 4), Fraction(1, 4), Fraction(2, 5)]\n",
    "        result = sum(data)\n",
    "        self.assertEqual(result, 1)"
   ]
  },
  {
   "cell_type": "code",
   "execution_count": 7,
   "id": "16bdc6cb",
   "metadata": {},
   "outputs": [
    {
     "name": "stderr",
     "output_type": "stream",
     "text": [
      "E\n",
      "======================================================================\n",
      "ERROR: C:\\Users\\quest\\AppData\\Roaming\\jupyter\\runtime\\kernel-d9a3c377-8670-46fc-bda3-6b7c97a227f6 (unittest.loader._FailedTest)\n",
      "----------------------------------------------------------------------\n",
      "AttributeError: module '__main__' has no attribute 'C:\\Users\\quest\\AppData\\Roaming\\jupyter\\runtime\\kernel-d9a3c377-8670-46fc-bda3-6b7c97a227f6'\n",
      "\n",
      "----------------------------------------------------------------------\n",
      "Ran 1 test in 0.001s\n",
      "\n",
      "FAILED (errors=1)\n"
     ]
    },
    {
     "ename": "SystemExit",
     "evalue": "True",
     "output_type": "error",
     "traceback": [
      "An exception has occurred, use %tb to see the full traceback.\n",
      "\u001b[1;31mSystemExit\u001b[0m\u001b[1;31m:\u001b[0m True\n"
     ]
    },
    {
     "name": "stderr",
     "output_type": "stream",
     "text": [
      "C:\\Users\\quest\\anaconda3\\lib\\site-packages\\IPython\\core\\interactiveshell.py:3468: UserWarning: To exit: use 'exit', 'quit', or Ctrl-D.\n",
      "  warn(\"To exit: use 'exit', 'quit', or Ctrl-D.\", stacklevel=1)\n"
     ]
    }
   ],
   "source": [
    "if __name__ == '__main__':\n",
    "    unittest.main()"
   ]
  },
  {
   "cell_type": "code",
   "execution_count": 8,
   "id": "9462fa65",
   "metadata": {},
   "outputs": [],
   "source": [
    "# test results do not work because unitest does not function on jupyter notebook.\n",
    "# instead I will refer to the message given when ran through VS code."
   ]
  },
  {
   "cell_type": "code",
   "execution_count": 10,
   "id": "0988c717",
   "metadata": {},
   "outputs": [],
   "source": [
    "# F.\n",
    "# ======================================================================\n",
    "# FAIL: test_list_fraction (__main__.TestSum.test_list_fraction)\n",
    "# Test that it can sum a list of fractions\n",
    "# ----------------------------------------------------------------------\n",
    "# Traceback (most recent call last):\n",
    "#   File \"C:\\Users\\#####\\OneDrive\\Desktop\\M05 Programming Assignment\\test.py\", line 20, in test_list_fraction\n",
    "#     self.assertEqual(result, 1)\n",
    "# AssertionError: Fraction(9, 10) != 1\n",
    "# \n",
    "# ----------------------------------------------------------------------\n",
    "# Ran 2 tests in 0.002s\n",
    "# \n",
    "# FAILED (failures=1)\n",
    "# PS C:\\Users\\#####\\OneDrive\\Desktop\\M05 Programming Assignment>"
   ]
  },
  {
   "cell_type": "code",
   "execution_count": 12,
   "id": "867f9cd9",
   "metadata": {},
   "outputs": [],
   "source": [
    "# this test shows that there is an assertion error that occurred on line 20 in the test.py file.\n",
    "# this is because we erroneously told the program that the test results of 1/4 + 1/4 + 2/5 should equal 1.\n",
    "# instead we received 9/10, which is logically the correct output, but does not match up with the incorrect answer we asked for."
   ]
  },
  {
   "cell_type": "code",
   "execution_count": null,
   "id": "12334806",
   "metadata": {},
   "outputs": [],
   "source": []
  }
 ],
 "metadata": {
  "kernelspec": {
   "display_name": "Python 3 (ipykernel)",
   "language": "python",
   "name": "python3"
  },
  "language_info": {
   "codemirror_mode": {
    "name": "ipython",
    "version": 3
   },
   "file_extension": ".py",
   "mimetype": "text/x-python",
   "name": "python",
   "nbconvert_exporter": "python",
   "pygments_lexer": "ipython3",
   "version": "3.10.9"
  }
 },
 "nbformat": 4,
 "nbformat_minor": 5
}
