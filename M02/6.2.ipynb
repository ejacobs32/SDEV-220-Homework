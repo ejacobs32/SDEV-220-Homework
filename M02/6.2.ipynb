{
 "cells": [
  {
   "cell_type": "code",
   "execution_count": 1,
   "id": "102116b6",
   "metadata": {},
   "outputs": [],
   "source": [
    "guess_me = 7"
   ]
  },
  {
   "cell_type": "code",
   "execution_count": 2,
   "id": "43222af4",
   "metadata": {},
   "outputs": [],
   "source": [
    "number = 1"
   ]
  },
  {
   "cell_type": "code",
   "execution_count": 3,
   "id": "c588704a",
   "metadata": {},
   "outputs": [
    {
     "name": "stdout",
     "output_type": "stream",
     "text": [
      "Too low\n",
      "Too low\n",
      "Too low\n",
      "Too low\n",
      "Too low\n",
      "Too low\n",
      "Found it!\n"
     ]
    }
   ],
   "source": [
    "while True:\n",
    "    if number < guess_me: \n",
    "        print(\"Too low\")\n",
    "    if number > guess_me: \n",
    "        print(\"oops...\")\n",
    "        break\n",
    "    if number == guess_me:\n",
    "        print(\"Found it!\")\n",
    "        break\n",
    "    number += 1"
   ]
  }
 ],
 "metadata": {
  "kernelspec": {
   "display_name": "Python 3 (ipykernel)",
   "language": "python",
   "name": "python3"
  },
  "language_info": {
   "codemirror_mode": {
    "name": "ipython",
    "version": 3
   },
   "file_extension": ".py",
   "mimetype": "text/x-python",
   "name": "python",
   "nbconvert_exporter": "python",
   "pygments_lexer": "ipython3",
   "version": "3.10.9"
  }
 },
 "nbformat": 4,
 "nbformat_minor": 5
}
