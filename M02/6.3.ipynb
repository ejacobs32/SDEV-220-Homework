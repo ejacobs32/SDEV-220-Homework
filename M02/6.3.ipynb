{
 "cells": [
  {
   "cell_type": "code",
   "execution_count": 1,
   "id": "d8a6f622",
   "metadata": {},
   "outputs": [],
   "source": [
    "guess_me = 5"
   ]
  },
  {
   "cell_type": "code",
   "execution_count": 2,
   "id": "9e24fb43",
   "metadata": {},
   "outputs": [],
   "source": [
    "number = range(10)"
   ]
  },
  {
   "cell_type": "code",
   "execution_count": 3,
   "id": "d1a78f6d",
   "metadata": {},
   "outputs": [
    {
     "name": "stdout",
     "output_type": "stream",
     "text": [
      "Too low\n",
      "Too low\n",
      "Too low\n",
      "Too low\n",
      "Too low\n",
      "Found it!\n"
     ]
    }
   ],
   "source": [
    "for num in number:\n",
    "    if num < guess_me: \n",
    "        print(\"Too low\")\n",
    "    if num > guess_me: \n",
    "        print(\"oops...\")\n",
    "        break\n",
    "    if num == guess_me:\n",
    "        print(\"Found it!\")\n",
    "        break"
   ]
  }
 ],
 "metadata": {
  "kernelspec": {
   "display_name": "Python 3 (ipykernel)",
   "language": "python",
   "name": "python3"
  },
  "language_info": {
   "codemirror_mode": {
    "name": "ipython",
    "version": 3
   },
   "file_extension": ".py",
   "mimetype": "text/x-python",
   "name": "python",
   "nbconvert_exporter": "python",
   "pygments_lexer": "ipython3",
   "version": "3.10.9"
  }
 },
 "nbformat": 4,
 "nbformat_minor": 5
}
