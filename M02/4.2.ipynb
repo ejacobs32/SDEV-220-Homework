{
 "cells": [
  {
   "cell_type": "code",
   "execution_count": 7,
   "id": "1e63dbe1",
   "metadata": {},
   "outputs": [],
   "source": [
    "small = True"
   ]
  },
  {
   "cell_type": "code",
   "execution_count": 8,
   "id": "e1273ef5",
   "metadata": {},
   "outputs": [],
   "source": [
    "green = False"
   ]
  },
  {
   "cell_type": "code",
   "execution_count": 9,
   "id": "403c8aef",
   "metadata": {},
   "outputs": [
    {
     "name": "stdout",
     "output_type": "stream",
     "text": [
      "cherry\n"
     ]
    }
   ],
   "source": [
    "if small == True:\n",
    "    if green == True:\n",
    "        print(\"pea\")\n",
    "    else:\n",
    "        print(\"cherry\")\n",
    "else:\n",
    "    if green == True:\n",
    "        print(\"watermelon\")\n",
    "    else:\n",
    "        print(\"pumpkin\")"
   ]
  }
 ],
 "metadata": {
  "kernelspec": {
   "display_name": "Python 3 (ipykernel)",
   "language": "python",
   "name": "python3"
  },
  "language_info": {
   "codemirror_mode": {
    "name": "ipython",
    "version": 3
   },
   "file_extension": ".py",
   "mimetype": "text/x-python",
   "name": "python",
   "nbconvert_exporter": "python",
   "pygments_lexer": "ipython3",
   "version": "3.10.9"
  }
 },
 "nbformat": 4,
 "nbformat_minor": 5
}
